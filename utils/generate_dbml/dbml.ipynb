{
 "cells": [
  {
   "cell_type": "code",
   "execution_count": 4,
   "id": "f8a0b4d0",
   "metadata": {},
   "outputs": [
    {
     "name": "stdout",
     "output_type": "stream",
     "text": [
      "✅ Archivo DBML generado como 'output.dbml'\n"
     ]
    }
   ],
   "source": [
    "import pandas as pd\n",
    "\n",
    "# Cargar archivo CSV (ajusta la ruta si es necesario)\n",
    "df = pd.read_csv(\"../../artifacts/configuration/csv/columns.csv\", sep=\";\", encoding=\"latin1\")\n",
    "\n",
    "# Filtrar columnas necesarias y ordenar por TABLE_NAME y COLUMN_ID\n",
    "df = df[['TABLE_NAME', 'COLUMN_NAME', 'NEW_DATA_TYPE', 'COLUMN_ID']]\n",
    "df = df.sort_values(by=['TABLE_NAME', 'COLUMN_ID'])\n",
    "\n",
    "# Mapeo de tipos a DBML\n",
    "type_map = {\n",
    "    'string': 'varchar',\n",
    "    'timestamp': 'timestamp',\n",
    "    'int': 'int',\n",
    "    'bigint': 'bigint',\n",
    "    'double': 'float',\n",
    "    'boolean': 'boolean'\n",
    "}\n",
    "\n",
    "# Listado de tablas\n",
    "all_tables = df['TABLE_NAME'].unique()\n",
    "\n",
    "# Construcción del DBML\n",
    "output = \"\"\n",
    "for table in all_tables:\n",
    "    table_df = df[df['TABLE_NAME'] == table]\n",
    "    output += f\"Table {table} {{\\n\"\n",
    "    \n",
    "    for _, row in table_df.iterrows():\n",
    "        col_name = row['COLUMN_NAME']\n",
    "        col_type = type_map.get(row['NEW_DATA_TYPE'].lower(), 'varchar')\n",
    "        is_pk = row['COLUMN_ID'] == 0\n",
    "        flags = []\n",
    "\n",
    "        # Clave primaria\n",
    "        if is_pk:\n",
    "            flags.append(\"pk\")\n",
    "\n",
    "        # Clave foránea (solo si no es PK y es id_)\n",
    "        if col_name.startswith(\"id_\") and not is_pk:\n",
    "            ref_key = col_name.replace(\"id_\", \"\").upper()\n",
    "            for other_table in all_tables:\n",
    "                if other_table != table and ref_key in other_table.upper():\n",
    "                    flags.append(f\"ref: > {other_table}.{col_name}\")\n",
    "                    break  # usa solo la primera coincidencia válida\n",
    "\n",
    "        flag_str = f\" [{', '.join(flags)}]\" if flags else \"\"\n",
    "        output += f\"  {col_name} {col_type}{flag_str}\\n\"\n",
    "    \n",
    "    output += \"}\\n\\n\"\n",
    "\n",
    "# Guardar resultado\n",
    "with open(\"output.dbml\", \"w\", encoding=\"utf-8\") as f:\n",
    "    f.write(output)\n",
    "\n",
    "print(\"✅ Archivo DBML generado como 'output.dbml'\")\n"
   ]
  }
 ],
 "metadata": {
  "kernelspec": {
   "display_name": "Python 3",
   "language": "python",
   "name": "python3"
  },
  "language_info": {
   "codemirror_mode": {
    "name": "ipython",
    "version": 3
   },
   "file_extension": ".py",
   "mimetype": "text/x-python",
   "name": "python",
   "nbconvert_exporter": "python",
   "pygments_lexer": "ipython3",
   "version": "3.9.21"
  }
 },
 "nbformat": 4,
 "nbformat_minor": 5
}

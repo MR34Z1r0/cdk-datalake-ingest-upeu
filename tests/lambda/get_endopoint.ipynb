{
 "cells": [
  {
   "cell_type": "code",
   "execution_count": null,
   "id": "6816c66e",
   "metadata": {},
   "outputs": [],
   "source": []
  },
  {
   "cell_type": "code",
   "execution_count": 27,
   "id": "ba8a6c44",
   "metadata": {},
   "outputs": [],
   "source": [
    "import datetime\n",
    "import logging\n",
    "import os\n",
    "import time\n",
    "import json\n",
    "import boto3\n",
    "##################################\n",
    "import dotenv\n",
    "dotenv.load_dotenv()\n",
    "boto3.setup_default_session(profile_name='prd-valorx-admin', region_name='us-east-1')\n",
    "##################################\n",
    "logger = logging.getLogger()\n",
    "logger.setLevel(logging.INFO)\n",
    "\n",
    "def find_key(data, key_to_find):\n",
    "    \"\"\"\n",
    "    Busca recursivamente una clave en un diccionario anidado y devuelve la clave y su valor.\n",
    "    \n",
    "    Args:\n",
    "        data: El diccionario en el que buscar\n",
    "        key_to_find: La clave que se busca\n",
    "        \n",
    "    Returns:\n",
    "        Un diccionario con la clave encontrada y su valor, o None si no se encuentra\n",
    "    \"\"\"\n",
    "    # Caso base: si data es un diccionario\n",
    "    if isinstance(data, dict):\n",
    "        # Comprueba si la clave está en este nivel\n",
    "        if key_to_find in data:\n",
    "            return {key_to_find: data[key_to_find]}\n",
    "        \n",
    "        # Busca en los valores del diccionario\n",
    "        for key, value in data.items():\n",
    "            result = find_key(value, key_to_find)\n",
    "            if result:\n",
    "                return result\n",
    "    \n",
    "    # Si data es una lista, busca en cada elemento\n",
    "    elif isinstance(data, list):\n",
    "        for item in data:\n",
    "            result = find_key(item, key_to_find)\n",
    "            if result:\n",
    "                return result\n",
    "    \n",
    "    # No se encontró\n",
    "    return None\n",
    "    \n",
    "def send_success_message(topic_arn, endpoint_name, process_id):\n",
    "    client = boto3.client(\"sns\")\n",
    "    logger.info(f\"sending succeded message for {endpoint_name} : {process_id}\")\n",
    "    response = client.publish(\n",
    "        TopicArn=topic_arn,\n",
    "        Message=f\"successfully load tables from process : {process_id} Source : {endpoint_name}\"\n",
    "    )\n",
    "\n",
    "def lambda_handler(event, context):\n",
    "    try:\n",
    "        logger.info(event)\n",
    "        client = boto3.resource('dynamodb')\n",
    "        dynamo_table_name = os.getenv('DYNAMO_DB_TABLE')\n",
    "        topic_arn = os.getenv(\"TOPIC_ARN\")\n",
    "        config_table_metadata = client.Table(dynamo_table_name)\n",
    "        \n",
    "        key = find_key(event, \"stage_job_result\")\n",
    "        if key is None:\n",
    "            logger.error(\"Key 'stage_job_result' not found in event\")\n",
    "            return {\n",
    "                'result': \"FAILED\",\n",
    "                'endpoint': \"\",\n",
    "                'table_names': \"\",\n",
    "                'message_error': \"Key 'stage_job_result' not found in event\"\n",
    "            }\n",
    "\n",
    "        table = key['stage_job_result']['Arguments']['--TABLE_NAME']\n",
    "          \n",
    "        table_names = \"\"\n",
    "        table_data = config_table_metadata.get_item(Key={'TARGET_TABLE_NAME': table})['Item']\n",
    "        endpoint = table_data['ENDPOINT']\n",
    "        process_id = table_data['PROCESS_ID']\n",
    "        \n",
    "        try:\n",
    "            raw_failed_tables = config_table_metadata.scan(\n",
    "                FilterExpression=f\"ENDPOINT = :val1 AND ACTIVE_FLAG = :val2 AND STATUS_RAW = :val3 \",\n",
    "                ExpressionAttributeValues={\n",
    "                    ':val1': endpoint,\n",
    "                    ':val2': 'Y',\n",
    "                    ':val3': 'FAILED'\n",
    "                }\n",
    "            )\n",
    "            logger.info(f\"failed tables in raw: {raw_failed_tables}\")\n",
    "\n",
    "            stage_failed_tables = config_table_metadata.scan(\n",
    "                FilterExpression=f\"ENDPOINT = :val1 AND ACTIVE_FLAG = :val2 AND STATUS_STAGE = :val3 \",\n",
    "                ExpressionAttributeValues={\n",
    "                    ':val1': endpoint,\n",
    "                    ':val2': 'Y',\n",
    "                    ':val3': 'FAILED'\n",
    "                }\n",
    "            )\n",
    "            logger.info(f\"failed tables in raw: {stage_failed_tables}\")\n",
    "            #if (not 'Items' in raw_failed_tables.keys() or raw_failed_tables['Items'] == []) and (not 'Items' in stage_failed_tables.keys() or raw_failed_tables['Items'] == []):\n",
    "            #    send_success_message(topic_arn, endpoint, process_id)\n",
    "\n",
    "        except Exception as e:\n",
    "            logger.error(str(e))\n",
    "\n",
    "        return {\n",
    "            'result': \"SUCCESS\",\n",
    "            'endpoint': endpoint,\n",
    "            'table_names': table_names,\n",
    "            'process_id': process_id\n",
    "        }\n",
    "\n",
    "    except Exception as e:\n",
    "        logger.error(\"Exception: {}\".format(e))\n",
    "        return {\n",
    "            'result': \"FAILED\",\n",
    "            'endpoint': \"\",\n",
    "            'table_names': \"\",\n",
    "            'message_error': str(e)\n",
    "        }\n",
    "    "
   ]
  },
  {
   "cell_type": "code",
   "execution_count": 23,
   "id": "7852de84",
   "metadata": {},
   "outputs": [],
   "source": [
    "event = {\"result\": \"SUCCEEDED\", \"dynamodb_key\": [{\"table\": \"PEBDDATA_M_COMPANIA\"}], \"process\": \"10\", \"execute_raw\": False, \"query_results\": {\"status\": \"COMPLETED\", \"result\": [{\"raw_job_result\": {\"JobRunId\": \"N/A-skipped\", \"Status\": \"SKIPPED\"}, \"process\": \"10\", \"dynamodb_key\": {\"table\": \"PEBDDATA_M_COMPANIA\"}, \"execute_raw\": False, \"stage_job_result\": {\"AllocatedCapacity\": 2, \"Arguments\": {\"--TABLE_NAME\": \"PEBDDATA_M_COMPANIA\"}, \"Attempt\": 0, \"CompletedOn\": 1747569665090, \"ExecutionTime\": 141, \"GlueVersion\": \"4.0\", \"Id\": \"jr_bcad3ec1155952416651ba2fb5a623c4777399a7c86a88ad7d0aad25997000d6\", \"JobMode\": \"SCRIPT\", \"JobName\": \"sofia-dev-datalake-light_transform-job\", \"JobRunState\": \"SUCCEEDED\", \"LastModifiedOn\": 1747569665090, \"LogGroupName\": \"/aws-glue/jobs\", \"MaxCapacity\": 2.0, \"NumberOfWorkers\": 2, \"PredecessorRuns\": [], \"StartedOn\": 1747569511880, \"Timeout\": 180, \"WorkerType\": \"G.1X\"}}]}}"
   ]
  },
  {
   "cell_type": "code",
   "execution_count": null,
   "id": "23ae62b8",
   "metadata": {},
   "outputs": [],
   "source": [
    "result = find_key(event, \"stage_job_result\")"
   ]
  },
  {
   "cell_type": "code",
   "execution_count": 18,
   "id": "9783ed57",
   "metadata": {},
   "outputs": [],
   "source": [
    "result"
   ]
  },
  {
   "cell_type": "code",
   "execution_count": 13,
   "id": "b1ed63d8",
   "metadata": {},
   "outputs": [
    {
     "data": {
      "text/plain": [
       "{'AllocatedCapacity': 2,\n",
       " 'Arguments': {'--TABLE_NAME': 'PEBDDATA_M_COMPANIA'},\n",
       " 'Attempt': 0,\n",
       " 'CompletedOn': 1747569665090,\n",
       " 'ExecutionTime': 141,\n",
       " 'GlueVersion': '4.0',\n",
       " 'Id': 'jr_bcad3ec1155952416651ba2fb5a623c4777399a7c86a88ad7d0aad25997000d6',\n",
       " 'JobMode': 'SCRIPT',\n",
       " 'JobName': 'sofia-dev-datalake-light_transform-job',\n",
       " 'JobRunState': 'SUCCEEDED',\n",
       " 'LastModifiedOn': 1747569665090,\n",
       " 'LogGroupName': '/aws-glue/jobs',\n",
       " 'MaxCapacity': 2.0,\n",
       " 'NumberOfWorkers': 2,\n",
       " 'PredecessorRuns': [],\n",
       " 'StartedOn': 1747569511880,\n",
       " 'Timeout': 180,\n",
       " 'WorkerType': 'G.1X'}"
      ]
     },
     "execution_count": 13,
     "metadata": {},
     "output_type": "execute_result"
    }
   ],
   "source": [
    "event['query_results']['result'][0]['stage_job_result']\n"
   ]
  },
  {
   "cell_type": "code",
   "execution_count": 28,
   "id": "6aa89e00",
   "metadata": {},
   "outputs": [
    {
     "data": {
      "text/plain": [
       "{'result': 'SUCCESS',\n",
       " 'endpoint': 'PEBDDATA',\n",
       " 'table_names': '',\n",
       " 'process_id': '10'}"
      ]
     },
     "execution_count": 28,
     "metadata": {},
     "output_type": "execute_result"
    }
   ],
   "source": [
    "event = {\"result\": \"SUCCEEDED\", \"dynamodb_key\": [{\"table\": \"PEBDDATA_M_COMPANIA\"}], \"process\": \"10\", \"execute_raw\": False, \"query_results\": {\"status\": \"COMPLETED\", \"result\": [{\"raw_job_result\": {\"JobRunId\": \"N/A-skipped\", \"Status\": \"SKIPPED\"}, \"process\": \"10\", \"dynamodb_key\": {\"table\": \"PEBDDATA_M_COMPANIA\"}, \"execute_raw\": False, \"stage_job_result\": {\"AllocatedCapacity\": 2, \"Arguments\": {\"--TABLE_NAME\": \"PEBDDATA_M_COMPANIA\"}, \"Attempt\": 0, \"CompletedOn\": 1747569665090, \"ExecutionTime\": 141, \"GlueVersion\": \"4.0\", \"Id\": \"jr_bcad3ec1155952416651ba2fb5a623c4777399a7c86a88ad7d0aad25997000d6\", \"JobMode\": \"SCRIPT\", \"JobName\": \"sofia-dev-datalake-light_transform-job\", \"JobRunState\": \"SUCCEEDED\", \"LastModifiedOn\": 1747569665090, \"LogGroupName\": \"/aws-glue/jobs\", \"MaxCapacity\": 2.0, \"NumberOfWorkers\": 2, \"PredecessorRuns\": [], \"StartedOn\": 1747569511880, \"Timeout\": 180, \"WorkerType\": \"G.1X\"}}]}}\n",
    "lambda_handler(event, None)"
   ]
  },
  {
   "cell_type": "code",
   "execution_count": 20,
   "id": "2b61879b",
   "metadata": {},
   "outputs": [
    {
     "data": {
      "text/plain": [
       "'{\"result\": \"SUCCEEDED\", \"dynamodb_key\": [{\"table\": \"PEBDDATA_M_COMPANIA\"}], \"process\": \"10\", \"execute_raw\": false, \"query_results\": {\"status\": \"COMPLETED\", \"result\": [{\"raw_job_result\": {\"JobRunId\": \"N/A-skipped\", \"Status\": \"SKIPPED\"}, \"process\": \"10\", \"dynamodb_key\": {\"table\": \"PEBDDATA_M_COMPANIA\"}, \"execute_raw\": false, \"stage_job_result\": {\"AllocatedCapacity\": 2, \"Arguments\": {\"--TABLE_NAME\": \"PEBDDATA_M_COMPANIA\"}, \"Attempt\": 0, \"CompletedOn\": 1747569665090, \"ExecutionTime\": 141, \"GlueVersion\": \"4.0\", \"Id\": \"jr_bcad3ec1155952416651ba2fb5a623c4777399a7c86a88ad7d0aad25997000d6\", \"JobMode\": \"SCRIPT\", \"JobName\": \"sofia-dev-datalake-light_transform-job\", \"JobRunState\": \"SUCCEEDED\", \"LastModifiedOn\": 1747569665090, \"LogGroupName\": \"/aws-glue/jobs\", \"MaxCapacity\": 2.0, \"NumberOfWorkers\": 2, \"PredecessorRuns\": [], \"StartedOn\": 1747569511880, \"Timeout\": 180, \"WorkerType\": \"G.1X\"}}]}}'"
      ]
     },
     "execution_count": 20,
     "metadata": {},
     "output_type": "execute_result"
    }
   ],
   "source": [
    "import json\n",
    "\n",
    "json.dumps(event)"
   ]
  }
 ],
 "metadata": {
  "kernelspec": {
   "display_name": "Python 3",
   "language": "python",
   "name": "python3"
  },
  "language_info": {
   "codemirror_mode": {
    "name": "ipython",
    "version": 3
   },
   "file_extension": ".py",
   "mimetype": "text/x-python",
   "name": "python",
   "nbconvert_exporter": "python",
   "pygments_lexer": "ipython3",
   "version": "3.10.16"
  }
 },
 "nbformat": 4,
 "nbformat_minor": 5
}

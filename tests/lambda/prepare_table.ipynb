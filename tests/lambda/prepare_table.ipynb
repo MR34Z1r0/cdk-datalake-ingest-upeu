{
 "cells": [
  {
   "cell_type": "code",
   "execution_count": 10,
   "id": "64d752d5",
   "metadata": {},
   "outputs": [
    {
     "data": {
      "text/plain": [
       "<module 'os' from 'c:\\\\Users\\\\miguel.espinoza\\\\.conda\\\\envs\\\\env_cdk\\\\lib\\\\os.py'>"
      ]
     },
     "execution_count": 10,
     "metadata": {},
     "output_type": "execute_result"
    }
   ],
   "source": [
    "import os \n",
    "import importlib\n",
    "importlib.reload(os) "
   ]
  },
  {
   "cell_type": "code",
   "execution_count": null,
   "id": "12855257",
   "metadata": {},
   "outputs": [],
   "source": [
    "\n",
    "import logging\n",
    "import os\n",
    "import boto3\n",
    "##################################\n",
    "import dotenv\n",
    "dotenv.load_dotenv()\n",
    "boto3.setup_default_session(profile_name='prd-valorx-admin', region_name='us-east-1')\n",
    "##################################\n",
    "logger = logging.getLogger()\n",
    "logger.setLevel(logging.INFO)\n",
    "\n",
    "def lambda_handler(event, context):\n",
    "    try:\n",
    "        logger.info(\"event : \" + str(event))\n",
    "        client = boto3.resource('dynamodb')\n",
    "        dynamo_table_name = os.getenv('DYNAMO_DB_TABLE')\n",
    "        config_table_metadata = client.Table(dynamo_table_name)\n",
    "        result = []\n",
    "        \n",
    "        for table in event['dynamodb_key']:\n",
    "            table_data = config_table_metadata.get_item(Key={'TARGET_TABLE_NAME': table})\n",
    "            if 'Item' in table_data:\n",
    "                result.append({\"table\": table})\n",
    "\n",
    "        return {\n",
    "            'result': \"SUCCEEDED\",\n",
    "            'dynamodb_key': result,\n",
    "            'process': event['process'],\n",
    "            'execute_raw': event['execute_raw']            \n",
    "        }\n",
    "    except Exception as e:\n",
    "        logger.info(\"exception : \" + str(e))\n",
    "        return {\n",
    "            'result': \"FAILED\",\n",
    "            'dynamodb_key': []\n",
    "        }"
   ]
  },
  {
   "cell_type": "code",
   "execution_count": 21,
   "id": "588f2e5f",
   "metadata": {},
   "outputs": [
    {
     "name": "stdout",
     "output_type": "stream",
     "text": [
      "{'FILTER_DATA_TYPE': '', 'JOIN_EXPR': '', 'STAGE_TABLE_NAME': 'm_compania', 'DELAY_INCREMENTAL_INI': '', 'ENDPOINT': 'PEBDDATA', 'FILTER_EXP': \"compania in (select compania from dbo.mcompa1f b where b.flgbi = 'a')\", 'ID_COLUMN': 'rtrim(ltrim(compania))', 'LOAD_TYPE': 'full', 'STATUS_STAGE': 'SUCCEDED', 'ACTIVE_FLAG': 'Y', 'TARGET_TABLE_NAME': 'PEBDDATA_M_COMPANIA', 'COLUMNS': \"dbo.func_cas_todatetime(fecultmod,horultimod) lastmodifydate, compania,replace(replace(nombre, char(13),''), char(10),'') nombre,cast(cast(persona as int) as varchar(20)) persona, tipovia,replace(replace(direccion, char(13),''), char(10),'') direccion,rtrim(ltrim(pais)) pais, departamen, provincia, zonapostal, telefono1, telefono2, telefono3, telefono4, fax, flgtipocia, ruc, nota, regigv, estado, feccrea, horcrea, usucrea, fecultmod, horultimod, ultusumod, abrevbco,case when aprobreq = 0x46 then 'F' when aprobreq = 0x54 then 'T' end aprobreq,case when aproboco = 0x46 then 'F' when aproboco = 0x54 then 'T' end aproboco, ipenlace,case when flgctrfaoc = 0x46 then 'F' when flgctrfaoc = 0x54 then 'T' end flgctrfaoc,case when flgrestart = 0x46 then 'F' when flgrestart = 0x54 then 'T' end flgrestart,case when flgaprogj = 0x46 then 'F' when flgaprogj = 0x54 then 'T' end flgaprogj,cast(cast(cantemple as int) as varchar(20)) cantemple, sucprin, coidioma, intercom, flgbi\", 'PROCESS_ID': '10', 'SOURCE_TABLE_TYPE': 'm', 'STATUS_RAW': 'WARNING', 'FILTER_COLUMN': '', 'FAIL REASON': '', 'SOURCE_SCHEMA': 'dbo', 'SOURCE_TABLE': 'mcompa1f', 'CRAWLER': True}\n",
      "{'FILTER_DATA_TYPE': 'aje_processperiod', 'JOIN_EXPR': '', 'STAGE_TABLE_NAME': 't_documento_venta', 'DELAY_INCREMENTAL_INI': '-2', 'ENDPOINT': 'PEBDDATA', 'FILTER_EXP': \"compania in (select compania from dbo.mcompa1f b where b.flgbi = 'a')\", 'ID_COLUMN': \"rtrim(ltrim(compania)) + '|' + rtrim(ltrim(sucursal)) + '|' + rtrim(ltrim(emisor)) + '|' + rtrim(ltrim(docucomvta)) + '|' + cast(cast(nrocomvta as bigint) as varchar(20))\", 'LOAD_TYPE': 'full', 'STATUS_STAGE': 'SUCCEDED', 'ACTIVE_FLAG': 'Y', 'TARGET_TABLE_NAME': 'PEBDDATA_T_DOCUMENTO_VENTA', 'COLUMNS': \"dbo.func_cas_todatetime(fecultimod,horultimod) lastmodifydate, compania,rtrim(ltrim(sucursal)) sucursal,rtrim(ltrim(emisor)) emisor,rtrim(ltrim(docucomvta)) docucomvta,cast(cast(nrocomvta as bigint) as varchar(20)) nrocomvta, sercomvta, nropricovt,rtrim(ltrim(docupedido)) docupedido,cast(cast(nropedido as bigint) as varchar(20)) nropedido,rtrim(ltrim(docucomalm)) docucomalm, nrocomalm, feccompvta, fecpediori, fecliquida, origcomvta, nrocomorig,cast(cast(cliente as int) as varchar(20)) cliente, fopagcomv, cliediapla,cast(cast(vendedor as int) as varchar(20)) vendedor, listprecov, proccomvta, tcajcovt, tpescomvt, timpvalv, timpdes, timpbisc, timpisc, timpbigv, timpigv, timpbim3, timpim3, timpbim4, timpim4,rtrim(ltrim(docucomvtr)) docucomvtr, timpcomvt, stscomvta,cast(cast(zonadist as int) as varchar(20)) zonadist, motirecha,cast(cast(ruta as int) as varchar(20)) ruta,cast(cast(modulo as int) as varchar(20)) modulo,cast(cast(supervisor as int) as varchar(20)) supervisor, nrocomref, aprobado, aprobado_por, desaprob_por, orden_autoriz,case when procesan = 0x46 then 'F' when procesan = 0x54 then 'T' end procesan, feccreacio, horcreacio, usuacreac, fecultimod, horultimod, usuaulmod, comprobant, codimpues1, codimpues2, codimpues3, codimpues4,rtrim(ltrim(moneda)) moneda, tcadolar, tcsoladol, compextor, fecanul,cast(cast(ejercicio as int) as varchar(20)) ejercicio, periodo,cast(cast(codfvtas as int) as varchar(20)) codfvtas, npedido, timpbpcp, timpbim5, timpim5, porcperc,case when notfiscli = 0x46 then 'F' when notfiscli = 0x54 then 'T' end notfiscli, timpbim6, timpim6,case when impreso = 0x46 then 'F' when impreso = 0x54 then 'T' end impreso, contrlfis, consignee, nroautfis,case when flgconfirm = 0x46 then 'F' when flgconfirm = 0x54 then 'T' end flgconfirm, fecconfirm, perconfirm,cast(null as varchar(4)) term_negoci, ciarefer, sucrefer, termnegoc, timpbim7, timpim7, motivncc,cast(null as varchar(4)) timpdesnimp,cast(null as varchar(4)) codimpues5,cast(null as varchar(4)) codimpues6,cast(null as varchar(4)) codimpues7,cast(null as varchar(4)) jefevta,cast(null as varchar(4)) idestcom,cast(null as varchar(4)) secdist,cast(null as varchar(4)) flgpagant,cast(null as varchar(4)) impantic,cast(null as varchar(4)) idsforce,cast(null as varchar(4)) medpago,cast(null as varchar(4)) flgprepag,cast(null as varchar(4)) origen,cast(null as varchar(4)) flgrefact,cast(null as varchar(4)) flgfacglob\", 'PROCESS_ID': '10', 'SOURCE_TABLE_TYPE': 't', 'STATUS_RAW': 'WARNING', 'FILTER_COLUMN': 'fecliquida between {0} and {1}', 'FAIL REASON': '', 'SOURCE_SCHEMA': 'dbo', 'SOURCE_TABLE': 'tcovta1f', 'CRAWLER': True}\n",
      "{'FILTER_DATA_TYPE': 'aje_processperiod', 'JOIN_EXPR': 'inner join dbo.tcovta1f(nolock) t on t.compania = t2.compania and t.sucursal = t2.sucursal and t.emisor = t2.emisor and t.docucomvta = t2.docucomvta and t.nrocomvta = t2.nrocomvta', 'STAGE_TABLE_NAME': 't_documento_venta_detalle', 'DELAY_INCREMENTAL_INI': '-2', 'ENDPOINT': 'PEBDDATA', 'FILTER_EXP': \"t2.compania in (select compania from dbo.mcompa1f b where b.flgbi = 'a')\", 'ID_COLUMN': \"rtrim(ltrim(t2.compania)) + '|' + rtrim(ltrim(t2.sucursal)) + '|' + rtrim(ltrim(t2.emisor)) + '|' + rtrim(ltrim(t2.docucomvta)) + '|' + cast(cast(t2.nrocomvta as bigint) as varchar(20)) + '|' + cast(t2.articulo as varchar(20)) + '|' + rtrim(ltrim(t2.opecomvta))\", 'LOAD_TYPE': 'full', 'STATUS_STAGE': 'SUCCEDED', 'ACTIVE_FLAG': 'Y', 'TARGET_TABLE_NAME': 'PEBDDATA_T_DOCUMENTO_VENTA_DETALLE', 'COLUMNS': 'dbo.func_cas_todatetime(t2.fecultimod,t2.horultimod) lastmodifydate,t2.compania compania,rtrim(ltrim(t2.sucursal)) sucursal,rtrim(ltrim(t2.emisor)) emisor,rtrim(ltrim(t2.docucomvta)) docucomvta,cast(cast(t2.nrocomvta as bigint) as varchar(20)) nrocomvta,cast(cast(t2.articulo as bigint) as varchar(20)) articulo,t2.opecomvta opecomvta,t2.qcajcomvta qcajcomvta,t2.qbotcomvta qbotcomvta,t2.qartuniman qartuniman,t2.listprecov listprecov,t2.tipprecio tipprecio,t2.impprecaj1 impprecaj1,t2.impprebot1 impprebot1,t2.impvalv impvalv,t2.prcdeslico prcdeslico,t2.impdes impdes,t2.impbisc impbisc,t2.prcisc prcisc,t2.impisc impisc,t2.impbigv impbigv,t2.prcigv prcigv,t2.impigv impigv,t2.impbim3 impbim3,t2.prcim3 prcim3,t2.impim3 impim3,t2.impbim4 impbim4,t2.prcim4 prcim4,t2.impim4 impim4,t2.impcob impcob,t2.proccomvta proccomvta,t2.feccreacio feccreacio,t2.horcreacio horcreacio,t2.usuacreac usuacreac,t2.fecultimod fecultimod,t2.horultimod horultimod,t2.usuaulmod usuaulmod,t2.impbim5 impbim5,t2.prcim5 prcim5,t2.impim5 impim5,t2.impbim6 impbim6,t2.prcim6 prcim6,t2.impim6 impim6,t2.impdesnimp impdesnimp,t2.impbim7 impbim7,t2.prcim7 prcim7,t2.impim7 impim7,cast(null as varchar(4)) impvalcaj1,t.fecliquida fecliquida', 'PROCESS_ID': '10', 'SOURCE_TABLE_TYPE': 't', 'STATUS_RAW': 'WARNING', 'FILTER_COLUMN': 't.fecliquida between {0} and {1}', 'FAIL REASON': '', 'SOURCE_SCHEMA': 'dbo', 'SOURCE_TABLE': 'tcovta2f t2', 'CRAWLER': True}\n"
     ]
    },
    {
     "data": {
      "text/plain": [
       "{'result': 'SUCCEEDED',\n",
       " 'dynamodb_key': [{'table': 'PEBDDATA_M_COMPANIA'},\n",
       "  {'table': 'PEBDDATA_T_DOCUMENTO_VENTA'},\n",
       "  {'table': 'PEBDDATA_T_DOCUMENTO_VENTA_DETALLE'}],\n",
       " 'process': '10',\n",
       " 'execute_raw': False}"
      ]
     },
     "execution_count": 21,
     "metadata": {},
     "output_type": "execute_result"
    }
   ],
   "source": [
    "event = {'process': '10', 'replication_instance_arn': {}, 'dynamodb_key': ['PEBDDATA_M_COMPANIA', 'PEBDDATA_T_DOCUMENTO_VENTA', 'PEBDDATA_T_DOCUMENTO_VENTA_DETALLE'], 'execute_raw': False, 'bd_type': 'MSSQL', 'result': 'SUCCEEDED'}\n",
    "lambda_handler(event, None)"
   ]
  },
  {
   "cell_type": "code",
   "execution_count": 24,
   "id": "73c0a883",
   "metadata": {},
   "outputs": [
    {
     "data": {
      "text/plain": [
       "{'result': 'SUCCEEDED',\n",
       " 'dynamodb_key': [{'table': 'PEBDDATA_M_DIVISION'},\n",
       "  {'table': 'PEBDDATA_T_DOCUMENTO_PEDIDO_ADES'},\n",
       "  {'table': 'PEBDDATA_T_DOCUMENTO_PEDIDO'},\n",
       "  {'table': 'PEBDDATA_M_FAMILIA'},\n",
       "  {'table': 'PEBDDATA_M_COMPANIA'},\n",
       "  {'table': 'PEBDDATA_M_TIPO_VEHICULO'},\n",
       "  {'table': 'PEBDDATA_M_OCASION'},\n",
       "  {'table': 'PEBDDATA_M_MODULO'},\n",
       "  {'table': 'PEBDDATA_M_SUBGIRO'},\n",
       "  {'table': 'PEBDDATA_M_ZONA'},\n",
       "  {'table': 'PEBDDATA_M_GIRO_LOCAL'},\n",
       "  {'table': 'PEBDDATA_M_VENDEDOR'},\n",
       "  {'table': 'PEBDDATA_M_SUCURSAL'},\n",
       "  {'table': 'PEBDDATA_M_PERSONA'},\n",
       "  {'table': 'PEBDDATA_M_PRESENTACION'},\n",
       "  {'table': 'PEBDDATA_M_MARCA'},\n",
       "  {'table': 'PEBDDATA_M_CANAL_LOCAL'},\n",
       "  {'table': 'PEBDDATA_M_TIPO_DOCUMENTO'},\n",
       "  {'table': 'PEBDDATA_M_ARTICULO'},\n",
       "  {'table': 'PEBDDATA_M_SUBFAMILIA'},\n",
       "  {'table': 'PEBDDATA_M_OPERACION'},\n",
       "  {'table': 'PEBDDATA_M_ASIGNACION_MODULO'},\n",
       "  {'table': 'PEBDDATA_M_MODELO_ATENCION'},\n",
       "  {'table': 'PEBDDATA_M_TIPO_TRANSACCION'},\n",
       "  {'table': 'PEBDDATA_M_VEHICULO'},\n",
       "  {'table': 'PEBDDATA_T_DOCUMENTO_PEDIDO_ADES_DESPACHO'},\n",
       "  {'table': 'PEBDDATA_M_NG2'},\n",
       "  {'table': 'PEBDDATA_T_DOCUMENTO_PEDIDO_ADES_PROGRAMACION'},\n",
       "  {'table': 'PEBDDATA_M_TIPO_TRANSPORTISTA'},\n",
       "  {'table': 'PEBDDATA_M_NG1'},\n",
       "  {'table': 'PEBDDATA_M_TRANSPORTISTA'},\n",
       "  {'table': 'PEBDDATA_M_PARAMETRO'},\n",
       "  {'table': 'PEBDDATA_T_VISITA'},\n",
       "  {'table': 'PEBDDATA_M_ORIGEN_PEDIDO'},\n",
       "  {'table': 'PEBDDATA_T_DOCUMENTO_VENTA_DETALLE'},\n",
       "  {'table': 'PEBDDATA_M_PROCEDIMIENTO'},\n",
       "  {'table': 'PEBDDATA_M_GASIFICADO'},\n",
       "  {'table': 'PEBDDATA_M_REGION'},\n",
       "  {'table': 'PEBDDATA_M_CLIENTE'},\n",
       "  {'table': 'PEBDDATA_T_DOCUMENTO_PEDIDO_DETALLE'},\n",
       "  {'table': 'PEBDDATA_M_SABOR'},\n",
       "  {'table': 'PEBDDATA_I_RELACION_PROCED_VENTA'},\n",
       "  {'table': 'PEBDDATA_T_DOCUMENTO_PEDIDO_ADES_DETALLE'},\n",
       "  {'table': 'PEBDDATA_M_LINEA'},\n",
       "  {'table': 'PEBDDATA_T_DOCUMENTO_VENTA'},\n",
       "  {'table': 'PEBDDATA_M_TIPO_ENVASE'},\n",
       "  {'table': 'PEBDDATA_M_LIGHT'},\n",
       "  {'table': 'PEBDDATA_M_FORMATO'},\n",
       "  {'table': 'PEBDDATA_M_LISTA_PRECIO'},\n",
       "  {'table': 'PEBDDATA_T_DOCUMENTO_PEDIDO_ADES_APROBACION'},\n",
       "  {'table': 'PEBDDATA_M_FORMA_PAGO'},\n",
       "  {'table': 'PEBDDATA_M_DOCUMENTO_TRANSACCION'},\n",
       "  {'table': 'PEBDDATA_M_TIPO_OPERACION'},\n",
       "  {'table': 'PEBDDATA_M_RUTA'},\n",
       "  {'table': 'PEBDDATA_M_ALMACEN'},\n",
       "  {'table': 'PEBDDATA_I_RELACION_CONSUMO'},\n",
       "  {'table': 'PEBDDATA_M_NG3'},\n",
       "  {'table': 'PEBDDATA_M_FUERZA_VENTA'},\n",
       "  {'table': 'PEBDDATA_M_SUBREGION'}],\n",
       " 'process': '10',\n",
       " 'execute_raw': False}"
      ]
     },
     "execution_count": 24,
     "metadata": {},
     "output_type": "execute_result"
    }
   ],
   "source": [
    "event = {\n",
    "      \"process\": \"10\",\n",
    "      \"dynamodb_key\": [\n",
    "        \"PEBDDATA_M_DIVISION\",\n",
    "        \"PEBDDATA_T_DOCUMENTO_PEDIDO_ADES\",\n",
    "        \"PEBDDATA_T_DOCUMENTO_PEDIDO\",\n",
    "        \"PEBDDATA_M_FAMILIA\",\n",
    "        \"PEBDDATA_M_COMPANIA\",\n",
    "        \"PEBDDATA_M_TIPO_VEHICULO\",\n",
    "        \"PEBDDATA_M_OCASION\",\n",
    "        \"PEBDDATA_M_MODULO\",\n",
    "        \"PEBDDATA_M_SUBGIRO\",\n",
    "        \"PEBDDATA_M_ZONA\",\n",
    "        \"PEBDDATA_M_GIRO_LOCAL\",\n",
    "        \"PEBDDATA_M_VENDEDOR\",\n",
    "        \"PEBDDATA_M_SUCURSAL\",\n",
    "        \"PEBDDATA_M_TIPO_CLIENTE\",\n",
    "        \"PEBDDATA_M_PERSONA\",\n",
    "        \"PEBDDATA_M_PRESENTACION\",\n",
    "        \"PEBDDATA_M_MARCA\",\n",
    "        \"PEBDDATA_M_CANAL_LOCAL\",\n",
    "        \"PEBDDATA_M_TIPO_DOCUMENTO\",\n",
    "        \"PEBDDATA_M_ARTICULO\",\n",
    "        \"PEBDDATA_M_SUBFAMILIA\",\n",
    "        \"PEBDDATA_M_OPERACION\",\n",
    "        \"PEBDDATA_M_ASIGNACION_MODULO\",\n",
    "        \"PEBDDATA_M_MODELO_ATENCION\",\n",
    "        \"PEBDDATA_M_TIPO_TRANSACCION\",\n",
    "        \"PEBDDATA_M_VEHICULO\",\n",
    "        \"PEBDDATA_T_DOCUMENTO_PEDIDO_ADES_DESPACHO\",\n",
    "        \"PEBDDATA_M_NG2\",\n",
    "        \"PEBDDATA_T_DOCUMENTO_PEDIDO_ADES_PROGRAMACION\",\n",
    "        \"PEBDDATA_M_TIPO_TRANSPORTISTA\",\n",
    "        \"PEBDDATA_M_NG1\",\n",
    "        \"PEBDDATA_M_TRANSPORTISTA\",\n",
    "        \"PEBDDATA_M_PARAMETRO\",\n",
    "        \"PEBDDATA_T_VISITA\",\n",
    "        \"PEBDDATA_M_ORIGEN_PEDIDO\",\n",
    "        \"PEBDDATA_T_DOCUMENTO_VENTA_DETALLE\",\n",
    "        \"PEBDDATA_M_PROCEDIMIENTO\",\n",
    "        \"PEBDDATA_M_GASIFICADO\",\n",
    "        \"PEBDDATA_M_REGION\",\n",
    "        \"PEBDDATA_M_CLIENTE\",\n",
    "        \"PEBDDATA_T_DOCUMENTO_PEDIDO_DETALLE\",\n",
    "        \"PEBDDATA_M_SABOR\",\n",
    "        \"PEBDDATA_I_RELACION_PROCED_VENTA\",\n",
    "        \"PEBDDATA_T_DOCUMENTO_PEDIDO_ADES_DETALLE\",\n",
    "        \"PEBDDATA_M_LINEA\",\n",
    "        \"PEBDDATA_T_DOCUMENTO_VENTA\",\n",
    "        \"PEBDDATA_M_TIPO_ENVASE\",\n",
    "        \"PEBDDATA_M_LIGHT\",\n",
    "        \"PEBDDATA_M_FORMATO\",\n",
    "        \"PEBDDATA_M_LISTA_PRECIO\",\n",
    "        \"PEBDDATA_T_DOCUMENTO_PEDIDO_ADES_APROBACION\",\n",
    "        \"PEBDDATA_M_FORMA_PAGO\",\n",
    "        \"PEBDDATA_M_CUENTA_CLAVE\",\n",
    "        \"PEBDDATA_M_DOCUMENTO_TRANSACCION\",\n",
    "        \"PEBDDATA_M_TIPO_OPERACION\",\n",
    "        \"PEBDDATA_M_RUTA\",\n",
    "        \"PEBDDATA_M_ALMACEN\",\n",
    "        \"PEBDDATA_I_RELACION_CONSUMO\",\n",
    "        \"PEBDDATA_M_NG3\",\n",
    "        \"PEBDDATA_M_FUERZA_VENTA\",\n",
    "        \"PEBDDATA_M_SUBREGION\"\n",
    "      ],\n",
    "      \"execute_raw\": False\n",
    "    }\n",
    "lambda_handler(event, None)    "
   ]
  },
  {
   "cell_type": "code",
   "execution_count": 2,
   "id": "7e06f2bb",
   "metadata": {},
   "outputs": [
    {
     "data": {
      "text/plain": [
       "'{\"process\": \"10\", \"replication_instance_arn\": {}, \"dynamodb_key\": [\"PEBDDATA_M_COMPANIA\", \"PEBDDATA_T_DOCUMENTO_VENTA\", \"PEBDDATA_T_DOCUMENTO_VENTA_DETALLE\"], \"execute_raw\": false, \"bd_type\": \"MSSQL\", \"result\": \"SUCCEEDED\"}'"
      ]
     },
     "execution_count": 2,
     "metadata": {},
     "output_type": "execute_result"
    }
   ],
   "source": [
    "import json \n",
    "json.dumps({'process': '10', 'replication_instance_arn': {}, 'dynamodb_key': ['PEBDDATA_M_COMPANIA', 'PEBDDATA_T_DOCUMENTO_VENTA', 'PEBDDATA_T_DOCUMENTO_VENTA_DETALLE'], 'execute_raw': False, 'bd_type': 'MSSQL', 'result': 'SUCCEEDED'})"
   ]
  }
 ],
 "metadata": {
  "kernelspec": {
   "display_name": "Python 3",
   "language": "python",
   "name": "python3"
  },
  "language_info": {
   "codemirror_mode": {
    "name": "ipython",
    "version": 3
   },
   "file_extension": ".py",
   "mimetype": "text/x-python",
   "name": "python",
   "nbconvert_exporter": "python",
   "pygments_lexer": "ipython3",
   "version": "3.10.16"
  }
 },
 "nbformat": 4,
 "nbformat_minor": 5
}
